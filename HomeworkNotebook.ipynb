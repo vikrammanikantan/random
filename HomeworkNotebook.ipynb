{
 "cells": [
  {
   "cell_type": "code",
   "execution_count": 18,
   "id": "b90e0a19",
   "metadata": {},
   "outputs": [],
   "source": [
    "import astropy as a\n",
    "from astropy import constants as c\n",
    "from astropy import units as u"
   ]
  },
  {
   "cell_type": "code",
   "execution_count": 2,
   "id": "09681864",
   "metadata": {},
   "outputs": [],
   "source": [
    "import numpy as np\n",
    "import matplotlib.pyplot as plt"
   ]
  },
  {
   "cell_type": "markdown",
   "id": "4df0a152",
   "metadata": {},
   "source": [
    "## Problem 2"
   ]
  },
  {
   "cell_type": "code",
   "execution_count": 3,
   "id": "5d060a14",
   "metadata": {},
   "outputs": [],
   "source": [
    "mp = c.m_p"
   ]
  },
  {
   "cell_type": "code",
   "execution_count": 4,
   "id": "2644ae66",
   "metadata": {},
   "outputs": [],
   "source": [
    "def Rin(mass):\n",
    "    M = mass.cgs\n",
    "    return (6*c.G*M/c.c**2).cgs\n",
    "\n",
    "def Medd(mass):\n",
    "    M = mass.cgs\n",
    "    Rin_ = Rin(mass)\n",
    "    return (8*np.pi*c.m_p*c.c*Rin_/3/c.sigma_T).cgs"
   ]
  },
  {
   "cell_type": "code",
   "execution_count": 5,
   "id": "38289926",
   "metadata": {},
   "outputs": [
    {
     "name": "stdout",
     "output_type": "stream",
     "text": [
      "5.594694571278334e+18 g / s\n",
      "5.5946945712783365e+26 g / s\n"
     ]
    }
   ],
   "source": [
    "mass = 10*u.M_sun\n",
    "\n",
    "print(Medd(mass))\n",
    "\n",
    "mass = (10**9)*u.M_sun\n",
    "\n",
    "print(Medd(mass))\n"
   ]
  },
  {
   "cell_type": "code",
   "execution_count": 6,
   "id": "023a1ad4",
   "metadata": {},
   "outputs": [],
   "source": [
    "def Tmax(mass):\n",
    "    M = mass.cgs\n",
    "    Macc = 0.1*Medd(mass)\n",
    "    Rin_ = Rin(mass)\n",
    "    const = (3*c.G/4/np.pi/c.sigma_sb)**0.25 * (1-(1/1.36)**0.5)**0.25 * 1.36**(-0.75)\n",
    "    return (const * Rin_**(-0.75) * M**(0.25) * Macc**(0.25)).cgs"
   ]
  },
  {
   "cell_type": "code",
   "execution_count": 7,
   "id": "050ded6b",
   "metadata": {},
   "outputs": [
    {
     "name": "stdout",
     "output_type": "stream",
     "text": [
      "3994714.3842454026 K\n",
      "39947.14384245403 K\n"
     ]
    }
   ],
   "source": [
    "mass = 10*u.M_sun\n",
    "\n",
    "print(Tmax(mass))\n",
    "\n",
    "mass = (10**9)*u.M_sun\n",
    "\n",
    "print(Tmax(mass))"
   ]
  },
  {
   "cell_type": "code",
   "execution_count": 8,
   "id": "d2f47b06",
   "metadata": {},
   "outputs": [
    {
     "data": {
      "text/latex": [
       "$0.063165694 \\; \\mathrm{\\frac{K\\,cm^{3/4}\\,s^{1/4}}{g^{1/2}}}$"
      ],
      "text/plain": [
       "<Quantity 0.06316569 cm(3/4) K s(1/4) / g(1/2)>"
      ]
     },
     "execution_count": 8,
     "metadata": {},
     "output_type": "execute_result"
    }
   ],
   "source": [
    "((3*c.G/4/np.pi/c.sigma_sb)**0.25 * (1-(1/1.36)**0.5)**0.25 * 1.36**(-0.75)).cgs"
   ]
  },
  {
   "cell_type": "markdown",
   "id": "07f214e9",
   "metadata": {},
   "source": [
    "## Problem 4"
   ]
  },
  {
   "cell_type": "code",
   "execution_count": 52,
   "id": "3a6b4259",
   "metadata": {},
   "outputs": [],
   "source": [
    "nh = 10**4 * (u.cm**(-3))\n",
    "Ed = (4.5 * u.eV).cgs\n",
    "Ei = (13.6 * u.eV).cgs\n",
    "\n",
    "kb = c.k_B\n",
    "\n",
    "\n",
    "T1 = 10 * u.K\n",
    "\n",
    "cs = (10**3 * (u.km / u.s)).cgs\n",
    "\n",
    "rho1 = (nh * 2 * c.m_p).cgs\n",
    "\n",
    "gam1 = 7./5.\n",
    "gam2 = 5./3.\n",
    "\n",
    "P1 = (nh*kb*T1).cgs\n",
    "\n"
   ]
  },
  {
   "cell_type": "code",
   "execution_count": 54,
   "id": "c50832fa",
   "metadata": {},
   "outputs": [],
   "source": [
    "a = 1\n",
    "b = -1 * rho1\n",
    "c_ = -1* rho1*(2*nh*Ed + 4*nh*Ei)/(cs**2)"
   ]
  },
  {
   "cell_type": "code",
   "execution_count": 71,
   "id": "56fbc9c4",
   "metadata": {},
   "outputs": [],
   "source": [
    "rho2 = (-b + np.sqrt(b**2 -4*a*c_))/2"
   ]
  },
  {
   "cell_type": "code",
   "execution_count": 72,
   "id": "75e65cd4",
   "metadata": {},
   "outputs": [
    {
     "name": "stdout",
     "output_type": "stream",
     "text": [
      "3.355370989086129e-20 g / cm3\n"
     ]
    }
   ],
   "source": [
    "print(rho2)"
   ]
  },
  {
   "cell_type": "code",
   "execution_count": 73,
   "id": "36ba9ab8",
   "metadata": {},
   "outputs": [],
   "source": [
    "P2 = P1 * (gam2-1)/(gam1-1) * (rho1+rho2+gam1*(rho2-rho1))/(rho1+rho2+gam2*(rho1-rho2))"
   ]
  },
  {
   "cell_type": "code",
   "execution_count": 74,
   "id": "636d82f0",
   "metadata": {},
   "outputs": [
    {
     "name": "stdout",
     "output_type": "stream",
     "text": [
      "2.3117738448387507e-11 P / s\n"
     ]
    }
   ],
   "source": [
    "print(P2)"
   ]
  },
  {
   "cell_type": "code",
   "execution_count": 75,
   "id": "fac68b59",
   "metadata": {},
   "outputs": [
    {
     "name": "stdout",
     "output_type": "stream",
     "text": [
      "1.380649e-11 P / s\n"
     ]
    }
   ],
   "source": [
    "print(P1)"
   ]
  },
  {
   "cell_type": "code",
   "execution_count": 78,
   "id": "1304b2ec",
   "metadata": {},
   "outputs": [],
   "source": [
    "T2 = P2/nh/kb/2"
   ]
  },
  {
   "cell_type": "code",
   "execution_count": 79,
   "id": "83509f39",
   "metadata": {},
   "outputs": [
    {
     "name": "stdout",
     "output_type": "stream",
     "text": [
      "8.372054898959657 K\n"
     ]
    }
   ],
   "source": [
    "print(T2.cgs)"
   ]
  },
  {
   "cell_type": "code",
   "execution_count": 80,
   "id": "a744fe07",
   "metadata": {},
   "outputs": [],
   "source": [
    "ne = rho2/c.m_p"
   ]
  },
  {
   "cell_type": "code",
   "execution_count": 82,
   "id": "6bfc904d",
   "metadata": {},
   "outputs": [
    {
     "name": "stdout",
     "output_type": "stream",
     "text": [
      "20060.546508225765 1 / cm3\n"
     ]
    }
   ],
   "source": [
    "print(ne.cgs)"
   ]
  },
  {
   "cell_type": "code",
   "execution_count": null,
   "id": "d0fb76c1",
   "metadata": {},
   "outputs": [],
   "source": []
  }
 ],
 "metadata": {
  "kernelspec": {
   "display_name": "Python 3 (ipykernel)",
   "language": "python",
   "name": "python3"
  },
  "language_info": {
   "codemirror_mode": {
    "name": "ipython",
    "version": 3
   },
   "file_extension": ".py",
   "mimetype": "text/x-python",
   "name": "python",
   "nbconvert_exporter": "python",
   "pygments_lexer": "ipython3",
   "version": "3.9.13"
  }
 },
 "nbformat": 4,
 "nbformat_minor": 5
}
