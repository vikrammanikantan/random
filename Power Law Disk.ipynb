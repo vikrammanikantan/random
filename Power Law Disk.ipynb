{
 "cells": [
  {
   "cell_type": "markdown",
   "id": "ba032a74",
   "metadata": {},
   "source": [
    "# Power Law Disk Solution"
   ]
  },
  {
   "cell_type": "code",
   "execution_count": 1,
   "id": "32a0a661",
   "metadata": {},
   "outputs": [],
   "source": [
    "import numpy as np\n",
    "import matplotlib.pyplot as plt\n",
    "import pandas as pd"
   ]
  },
  {
   "cell_type": "markdown",
   "id": "fc77c88d",
   "metadata": {},
   "source": [
    "## Setting Constants"
   ]
  },
  {
   "cell_type": "code",
   "execution_count": 2,
   "id": "48ce8dac",
   "metadata": {},
   "outputs": [],
   "source": [
    "# defining some constants; G = c = 1\n",
    "\n",
    "a = 0.5 # spin; |a| < 1\n",
    "q = 0 # charge; 0 < q < 1; a^2 + q^2 < 1\n",
    "M = 1 # mass;\n",
    "rs = 2*M # schwarzchild radius; rs = 2GM/c^2\n",
    "\n",
    "th0 = np.pi/2.\n",
    "\n",
    "rh = M + np.sqrt(M**2 - a**2 - q**2) # radius of event horizon\n",
    "\n",
    "rin = 3"
   ]
  },
  {
   "cell_type": "code",
   "execution_count": 3,
   "id": "7a88af01",
   "metadata": {},
   "outputs": [],
   "source": [
    "# define coordinate grid: r x theta x phi = 100 x 100 x 100\n",
    "\n",
    "## all arrays should have dimensions r x theta x phi\n",
    "\n",
    "n1 = 10000 # cells in the r direction\n",
    "n2 = 400 # cells in the theta (polar coordinate) direction\n",
    "n3 = 1 # cells in the phi direction"
   ]
  },
  {
   "cell_type": "markdown",
   "id": "e417a564",
   "metadata": {},
   "source": [
    "## Creating Our Coordinate Grid"
   ]
  },
  {
   "cell_type": "code",
   "execution_count": 4,
   "id": "52acad77",
   "metadata": {},
   "outputs": [],
   "source": [
    "## defining the metric\n",
    "\n",
    "# creating the metric array (g_mu_nu)\n",
    "g = np.zeros((4,4,n1,n2,n3))\n",
    "\n",
    "\n",
    "sm = 0.001\n",
    "rmax = 1000\n",
    "\n",
    "r = np.zeros((n1,n2,n3))\n",
    "th = np.zeros((n1,n2,n3))\n",
    "ph = np.zeros((n1,n2,n3))\n",
    "\n",
    "r_ = np.logspace(np.log10(rh+sm), np.log10(rmax), n1, base = 10.0)\n",
    "th_ = np.linspace(sm, np.pi-sm, n2)\n",
    "ph_ = np.linspace(sm, 2*np.pi-sm,n3)"
   ]
  },
  {
   "cell_type": "code",
   "execution_count": 5,
   "id": "4fbf7515",
   "metadata": {},
   "outputs": [],
   "source": [
    "for j in range(n2):\n",
    "    for k in range(n3):\n",
    "        r[:,j,k] = r_\n",
    "        \n",
    "for i in range(n1):\n",
    "    for k in range(n3):\n",
    "        th[i,:,k] = th_        \n",
    "\n",
    "for i in range(n1):\n",
    "    for j in range(n2):\n",
    "        ##Defining Quantities       \n",
    "        ph[i,j,:] = ph_"
   ]
  },
  {
   "cell_type": "markdown",
   "id": "8d7b4f2b",
   "metadata": {},
   "source": [
    "## Defining Quantities"
   ]
  },
  {
   "cell_type": "code",
   "execution_count": null,
   "id": "a2a8db20",
   "metadata": {},
   "outputs": [],
   "source": []
  },
  {
   "cell_type": "code",
   "execution_count": null,
   "id": "39c2e7da",
   "metadata": {},
   "outputs": [],
   "source": []
  }
 ],
 "metadata": {
  "kernelspec": {
   "display_name": "Python 3 (ipykernel)",
   "language": "python",
   "name": "python3"
  },
  "language_info": {
   "codemirror_mode": {
    "name": "ipython",
    "version": 3
   },
   "file_extension": ".py",
   "mimetype": "text/x-python",
   "name": "python",
   "nbconvert_exporter": "python",
   "pygments_lexer": "ipython3",
   "version": "3.9.13"
  }
 },
 "nbformat": 4,
 "nbformat_minor": 5
}
