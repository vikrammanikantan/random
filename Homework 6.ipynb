{
 "cells": [
  {
   "cell_type": "markdown",
   "id": "5d9a7596",
   "metadata": {},
   "source": [
    "## Homework 6"
   ]
  },
  {
   "cell_type": "markdown",
   "id": "c74ba4be",
   "metadata": {},
   "source": [
    "## Problem 1"
   ]
  },
  {
   "cell_type": "code",
   "execution_count": 23,
   "id": "63b769ac",
   "metadata": {},
   "outputs": [],
   "source": [
    "import numpy as np\n",
    "import matplotlib.pyplot as plt\n",
    "\n",
    "from matplotlib import rcParams\n",
    "rcParams['text.usetex'] = True\n"
   ]
  },
  {
   "cell_type": "code",
   "execution_count": 24,
   "id": "03840bf0",
   "metadata": {},
   "outputs": [],
   "source": [
    "## define constants\n",
    "\n",
    "G = 6.67 * 10**(-8) # in cgs units"
   ]
  },
  {
   "cell_type": "code",
   "execution_count": 9,
   "id": "6995c56a",
   "metadata": {},
   "outputs": [],
   "source": [
    "\"\"\"\n",
    "rho(M, Rbar)\n",
    "inputs: \n",
    "- M mass in solar masses\n",
    "- Rbar in pc\n",
    "outputs: \n",
    "- density of the cluster\n",
    "\n",
    "\"\"\"\n",
    "def rho(M, Rbar):\n",
    "    return M/(4./3. * np.pi * Rbar**3)\n",
    "    \n",
    "\n",
    "\"\"\"\n",
    "lamd()\n",
    "input: N\n",
    "\n",
    "\"\"\" \n",
    "def lamd(N):\n",
    "    return np.log(0.5*N**(2./3.))\n",
    "    "
   ]
  },
  {
   "cell_type": "code",
   "execution_count": 10,
   "id": "40a5ee4c",
   "metadata": {},
   "outputs": [],
   "source": [
    "# relaxation time from lecture\n",
    "def t_rel(N, R, m2):\n",
    "    return 1./3. * (32*G)**(-1) * 1/lamd(N) * (N * R**3 / m2)**0.5\n",
    "    \n",
    "# mixing time from lecture\n",
    "def t_mix(M, Rbar):\n",
    "    return (6/np.pi/G/rho(M, Rbar))**0.5\n",
    "\n",
    "\n",
    "## upper limit for evaporation time\n",
    "def t_evap(N,R,m2):\n",
    "    return t_rel(N,R,m2) / 0.0074"
   ]
  },
  {
   "cell_type": "markdown",
   "id": "6a14d016",
   "metadata": {},
   "source": [
    "### Open Clusters"
   ]
  },
  {
   "cell_type": "code",
   "execution_count": 32,
   "id": "c29ae3db",
   "metadata": {},
   "outputs": [],
   "source": [
    "\"\"\"\n",
    "Pleiades\n",
    "\n",
    "Source: \n",
    "https://en.wikipedia.org/wiki/Pleiades\n",
    "\n",
    "\n",
    "\"\"\"\n",
    "\n",
    "N = 1000  # 500,000 stars\n",
    "R = 5.366 # parsecs\n",
    "M = 800   # solar masses\n",
    "m2 = M / N\n",
    "\n",
    "\n",
    "Trel = t_rel(N, R, m)\n",
    "Tmix = t_mix(M, R)\n",
    "Tevap = t_evap(N, R, m)\n",
    "\n"
   ]
  },
  {
   "cell_type": "code",
   "execution_count": 33,
   "id": "466a2a71",
   "metadata": {},
   "outputs": [
    {
     "name": "stdout",
     "output_type": "stream",
     "text": [
      "Relaxation Timescale: $\\tau_{rel}$ = 2.3392211318247642e+04\n",
      "Mixing Timescale: $\\tau_{mix}$ = 4.812969234056666e+03\n",
      "Evaporation Timescale (upper limit): $\\tau_{evap}$ = 3.1611096376010324e+06\n"
     ]
    }
   ],
   "source": [
    "print(r'Relaxation Timescale: $\\tau_{rel}$ = '+np.format_float_scientific(Trel))\n",
    "print(r'Mixing Timescale: $\\tau_{mix}$ = '+np.format_float_scientific(Tmix))\n",
    "print(r'Evaporation Timescale (upper limit): $\\tau_{evap}$ = '+np.format_float_scientific(Tevap))"
   ]
  },
  {
   "cell_type": "markdown",
   "id": "d51a6c0f",
   "metadata": {},
   "source": [
    "### Globular Clusters"
   ]
  },
  {
   "cell_type": "code",
   "execution_count": 34,
   "id": "07f8bcb7",
   "metadata": {},
   "outputs": [],
   "source": [
    "\"\"\"\n",
    "Messier 3\n",
    "\n",
    "Source: \n",
    "https://en.wikipedia.org/wiki/Messier_3\n",
    "\n",
    "\n",
    "\"\"\"\n",
    "\n",
    "N = 500000 # 500,000 stars\n",
    "R = 27.5941 # parsecs\n",
    "M = 4.5 * 10**5 # solar masses\n",
    "m2 = M / N\n",
    "\n",
    "\n",
    "\n",
    "Trel = t_rel(N, R, m2)\n",
    "Tmix = t_mix(M, R)\n",
    "Tevap = t_evap(N, R, m2)\n"
   ]
  },
  {
   "cell_type": "code",
   "execution_count": 35,
   "id": "cf7ba1f8",
   "metadata": {},
   "outputs": [
    {
     "name": "stdout",
     "output_type": "stream",
     "text": [
      "Relaxation Timescale: $\\tau_{rel}$ = 2.0946928999205863e+09\n",
      "Mixing Timescale: $\\tau_{mix}$ = 2.3664654618141067e+03\n",
      "Evaporation Timescale (upper limit): $\\tau_{evap}$ = 2.830666080973765e+11\n"
     ]
    }
   ],
   "source": [
    "print(r'Relaxation Timescale: $\\tau_{rel}$ = '+np.format_float_scientific(Trel))\n",
    "print(r'Mixing Timescale: $\\tau_{mix}$ = '+np.format_float_scientific(Tmix))\n",
    "print(r'Evaporation Timescale (upper limit): $\\tau_{evap}$ = '+np.format_float_scientific(Tevap))"
   ]
  },
  {
   "cell_type": "markdown",
   "id": "7ade6ea0",
   "metadata": {},
   "source": [
    "### Elliptical Galaxies"
   ]
  },
  {
   "cell_type": "code",
   "execution_count": 36,
   "id": "6083573c",
   "metadata": {},
   "outputs": [],
   "source": [
    "\"\"\"\n",
    "M87\n",
    "\n",
    "Source: \n",
    "https://en.wikipedia.org/wiki/Messier_87\n",
    "\n",
    "\n",
    "\"\"\"\n",
    "\n",
    "N = 2000000000 # 2,000,000,000 stars\n",
    "R = 30000 # or 150,000 parsecs for the outer regions as well\n",
    "M = 2.4 * 10**12 # solar masses - for the 30kpc region we have selected\n",
    "m2 = M / N\n",
    "\n",
    "\n",
    "Trel = t_rel(N, R, m)\n",
    "Tmix = t_mix(M, R)\n",
    "Tevap = t_evap(N, R, m)\n"
   ]
  },
  {
   "cell_type": "code",
   "execution_count": 37,
   "id": "a2435796",
   "metadata": {},
   "outputs": [
    {
     "name": "stdout",
     "output_type": "stream",
     "text": [
      "Relaxation Timescale: $\\tau_{rel}$ = 3.982457308034931e+12\n",
      "Mixing Timescale: $\\tau_{mix}$ = 3.673316399837256e+04\n",
      "Evaporation Timescale (upper limit): $\\tau_{evap}$ = 5.381699064912069e+14\n"
     ]
    }
   ],
   "source": [
    "print(r'Relaxation Timescale: $\\tau_{rel}$ = '+np.format_float_scientific(Trel))\n",
    "print(r'Mixing Timescale: $\\tau_{mix}$ = '+np.format_float_scientific(Tmix))\n",
    "print(r'Evaporation Timescale (upper limit): $\\tau_{evap}$ = '+np.format_float_scientific(Tevap))"
   ]
  },
  {
   "cell_type": "markdown",
   "id": "81504865",
   "metadata": {},
   "source": [
    "## Problem 2"
   ]
  },
  {
   "cell_type": "code",
   "execution_count": 40,
   "id": "e1eff31e",
   "metadata": {},
   "outputs": [],
   "source": [
    "V = 10**(-6)\n",
    "R =  (3./4./np.pi * V)**(1./3.)# or 150,000 parsecs for the outer regions as well\n",
    "M = 4.15*10**6 # solar masses - for the 30kpc region we have selected\n",
    "N = M/0.1 # calculating N from total mass and known mass of stars\n",
    "\n",
    "m2 = M / N\n",
    "\n",
    "\n",
    "Trel = t_rel(N, R, m)\n",
    "Tmix = t_mix(M, R)\n",
    "Tevap = t_evap(N, R, m)"
   ]
  },
  {
   "cell_type": "code",
   "execution_count": 41,
   "id": "bd32d95e",
   "metadata": {},
   "outputs": [
    {
     "name": "stdout",
     "output_type": "stream",
     "text": [
      "Relaxation Timescale: $\\tau_{rel}$ = 6.66108072640438e+01\n",
      "Mixing Timescale: $\\tau_{mix}$ = 2.626719653362903e-03\n",
      "Evaporation Timescale (upper limit): $\\tau_{evap}$ = 9.001460441087e+03\n"
     ]
    }
   ],
   "source": [
    "print(r'Relaxation Timescale: $\\tau_{rel}$ = '+np.format_float_scientific(Trel))\n",
    "print(r'Mixing Timescale: $\\tau_{mix}$ = '+np.format_float_scientific(Tmix))\n",
    "print(r'Evaporation Timescale (upper limit): $\\tau_{evap}$ = '+np.format_float_scientific(Tevap))"
   ]
  },
  {
   "cell_type": "code",
   "execution_count": null,
   "id": "d1343239",
   "metadata": {},
   "outputs": [],
   "source": []
  }
 ],
 "metadata": {
  "kernelspec": {
   "display_name": "Python 3 (ipykernel)",
   "language": "python",
   "name": "python3"
  },
  "language_info": {
   "codemirror_mode": {
    "name": "ipython",
    "version": 3
   },
   "file_extension": ".py",
   "mimetype": "text/x-python",
   "name": "python",
   "nbconvert_exporter": "python",
   "pygments_lexer": "ipython3",
   "version": "3.9.1"
  }
 },
 "nbformat": 4,
 "nbformat_minor": 5
}
