{
 "cells": [
  {
   "cell_type": "markdown",
   "id": "8fd1a1e3",
   "metadata": {},
   "source": [
    "# Analysis Package for Athena"
   ]
  },
  {
   "cell_type": "code",
   "execution_count": 64,
   "id": "7701c945",
   "metadata": {},
   "outputs": [
    {
     "name": "stdout",
     "output_type": "stream",
     "text": [
      "/home/vik/code/athena/vis/python\n"
     ]
    }
   ],
   "source": [
    "import numpy as np\n",
    "import pandas as pd\n",
    "import matplotlib.pyplot as plt\n",
    "import matplotlib.colors as colors\n",
    "import h5py\n",
    "\n",
    "%cd /home/vik/code/athena/vis/python\n",
    "\n",
    "import athena_read\n"
   ]
  },
  {
   "cell_type": "code",
   "execution_count": 65,
   "id": "347dfcf1",
   "metadata": {},
   "outputs": [],
   "source": [
    "data_dir = \"/home/vik/code/runs/athena_torus/\""
   ]
  },
  {
   "cell_type": "markdown",
   "id": "88dee990",
   "metadata": {},
   "source": [
    "## Choose Time"
   ]
  },
  {
   "cell_type": "code",
   "execution_count": 66,
   "id": "9396d7eb",
   "metadata": {},
   "outputs": [],
   "source": [
    "dump = '00000'\n",
    "\n",
    "file_user = \"fm_torus.user.\" + dump + \".athdf\"\n",
    "file_prim = \"fm_torus.prim.\" + dump + \".athdf\""
   ]
  },
  {
   "cell_type": "markdown",
   "id": "70fee3d5",
   "metadata": {},
   "source": [
    "## Read in Data"
   ]
  },
  {
   "cell_type": "code",
   "execution_count": 67,
   "id": "247f6c4c",
   "metadata": {},
   "outputs": [],
   "source": [
    "user = athena_read.athdf(data_dir+file_user)\n",
    "prim = athena_read.athdf(data_dir+file_prim)"
   ]
  },
  {
   "cell_type": "markdown",
   "id": "88fd899c",
   "metadata": {},
   "source": [
    "## Data Reduction"
   ]
  },
  {
   "cell_type": "code",
   "execution_count": 68,
   "id": "838d9bd4",
   "metadata": {},
   "outputs": [],
   "source": [
    "def dump_keys(d, lvl=0):\n",
    "    import collections.abc\n",
    "    for k in d.keys():\n",
    "        if not isinstance(d[k], dict):\n",
    "            if isinstance(d[k], np.ndarray):\n",
    "                print(k + \": \" + str(type(d[k])) + str(d[k].shape))\n",
    "            else:\n",
    "                print(k + \": \" + str(type(d[k])))\n",
    "                \n",
    "        else:\n",
    "            dump_keys(d[k])\n",
    "    return\n"
   ]
  },
  {
   "cell_type": "markdown",
   "id": "7790bc63",
   "metadata": {},
   "source": [
    "### Looping Through Keys to Print All Known Values"
   ]
  },
  {
   "cell_type": "code",
   "execution_count": 69,
   "id": "210b89f6",
   "metadata": {},
   "outputs": [
    {
     "name": "stdout",
     "output_type": "stream",
     "text": [
      "Coordinates: <class 'numpy.bytes_'>\n",
      "DatasetNames: <class 'numpy.ndarray'>(2,)\n",
      "MaxLevel: <class 'numpy.int32'>\n",
      "MeshBlockSize: <class 'numpy.ndarray'>(3,)\n",
      "NumCycles: <class 'numpy.int32'>\n",
      "NumMeshBlocks: <class 'numpy.int32'>\n",
      "NumVariables: <class 'numpy.ndarray'>(2,)\n",
      "RootGridSize: <class 'numpy.ndarray'>(3,)\n",
      "RootGridX1: <class 'numpy.ndarray'>(3,)\n",
      "RootGridX2: <class 'numpy.ndarray'>(3,)\n",
      "RootGridX3: <class 'numpy.ndarray'>(3,)\n",
      "Time: <class 'numpy.float32'>\n",
      "VariableNames: <class 'numpy.ndarray'>(8,)\n",
      "x1f: <class 'numpy.ndarray'>(129,)\n",
      "x1v: <class 'numpy.ndarray'>(128,)\n",
      "x2f: <class 'numpy.ndarray'>(129,)\n",
      "x2v: <class 'numpy.ndarray'>(128,)\n",
      "x3f: <class 'numpy.ndarray'>(129,)\n",
      "x3v: <class 'numpy.ndarray'>(128,)\n",
      "rho: <class 'numpy.ndarray'>(128, 128, 128)\n",
      "press: <class 'numpy.ndarray'>(128, 128, 128)\n",
      "vel1: <class 'numpy.ndarray'>(128, 128, 128)\n",
      "vel2: <class 'numpy.ndarray'>(128, 128, 128)\n",
      "vel3: <class 'numpy.ndarray'>(128, 128, 128)\n",
      "Bcc1: <class 'numpy.ndarray'>(128, 128, 128)\n",
      "Bcc2: <class 'numpy.ndarray'>(128, 128, 128)\n",
      "Bcc3: <class 'numpy.ndarray'>(128, 128, 128)\n"
     ]
    }
   ],
   "source": [
    "dump_keys(prim)"
   ]
  },
  {
   "cell_type": "code",
   "execution_count": 70,
   "id": "9cad470b",
   "metadata": {},
   "outputs": [
    {
     "name": "stdout",
     "output_type": "stream",
     "text": [
      "Coordinates: <class 'numpy.bytes_'>\n",
      "DatasetNames: <class 'numpy.ndarray'>(1,)\n",
      "MaxLevel: <class 'numpy.int32'>\n",
      "MeshBlockSize: <class 'numpy.ndarray'>(3,)\n",
      "NumCycles: <class 'numpy.int32'>\n",
      "NumMeshBlocks: <class 'numpy.int32'>\n",
      "NumVariables: <class 'numpy.ndarray'>(1,)\n",
      "RootGridSize: <class 'numpy.ndarray'>(3,)\n",
      "RootGridX1: <class 'numpy.ndarray'>(3,)\n",
      "RootGridX2: <class 'numpy.ndarray'>(3,)\n",
      "RootGridX3: <class 'numpy.ndarray'>(3,)\n",
      "Time: <class 'numpy.float32'>\n",
      "VariableNames: <class 'numpy.ndarray'>(2,)\n",
      "x1f: <class 'numpy.ndarray'>(129,)\n",
      "x1v: <class 'numpy.ndarray'>(128,)\n",
      "x2f: <class 'numpy.ndarray'>(129,)\n",
      "x2v: <class 'numpy.ndarray'>(128,)\n",
      "x3f: <class 'numpy.ndarray'>(129,)\n",
      "x3v: <class 'numpy.ndarray'>(128,)\n",
      "gamma: <class 'numpy.ndarray'>(128, 128, 128)\n",
      "pmag: <class 'numpy.ndarray'>(128, 128, 128)\n"
     ]
    }
   ],
   "source": [
    "dump_keys(user)"
   ]
  },
  {
   "cell_type": "code",
   "execution_count": 71,
   "id": "328d5d2c",
   "metadata": {},
   "outputs": [
    {
     "name": "stdout",
     "output_type": "stream",
     "text": [
      "[b'rho' b'press' b'vel1' b'vel2' b'vel3' b'Bcc1' b'Bcc2' b'Bcc3']\n",
      "[b'gamma' b'pmag']\n"
     ]
    }
   ],
   "source": [
    "print(prim['VariableNames'])\n",
    "print(user['VariableNames'])"
   ]
  },
  {
   "cell_type": "markdown",
   "id": "9b34dc47",
   "metadata": {},
   "source": [
    "## Coordinates"
   ]
  },
  {
   "cell_type": "code",
   "execution_count": 80,
   "id": "a95e335e",
   "metadata": {},
   "outputs": [
    {
     "name": "stdout",
     "output_type": "stream",
     "text": [
      "[-0.00205433 -0.0021522  -0.00225461 -0.00236213 -0.00247455 -0.00259233\n",
      " -0.00271595 -0.00284529 -0.00298083 -0.00312269 -0.00327146 -0.00342727\n",
      " -0.00359058 -0.00376165 -0.00394082 -0.00412846 -0.00432515 -0.00453115\n",
      " -0.00474691 -0.00497305 -0.00520992 -0.00545812 -0.00571811 -0.00599051\n",
      " -0.00627577 -0.00657475 -0.00688791 -0.0072161  -0.00755954 -0.00791979\n",
      " -0.00829697 -0.00869226 -0.00910616 -0.00953984 -0.00999451 -0.01047063\n",
      " -0.01096916 -0.01149178 -0.01203895 -0.01261234 -0.0132134  -0.01384258\n",
      " -0.01450205 -0.01519275 -0.01591635 -0.01667452 -0.01746869 -0.01830077\n",
      " -0.01917267 -0.02008557 -0.02104235 -0.0220449  -0.02309489 -0.02419472\n",
      " -0.02534723 -0.02655482 -0.0278194  -0.02914476 -0.0305326  -0.03198719\n",
      " -0.03351068 -0.0351069  -0.0367794  -0.03853106 -0.04036641 -0.04228902\n",
      " -0.04430342 -0.04641366 -0.04862428 -0.05094051 -0.0533669  -0.05590868\n",
      " -0.05857182 -0.06136179 -0.0642848  -0.06734657 -0.07055426 -0.073915\n",
      " -0.07743597 -0.08112431 -0.08498812 -0.08903646 -0.09327745 -0.09772015\n",
      " -0.10237551 -0.10725117 -0.11236    -0.11771154 -0.12331867 -0.12919283\n",
      " -0.13534641 -0.14179325 -0.1485467  -0.15562248 -0.1630354  -0.17080116\n",
      " -0.178936   -0.18745995 -0.1963892  -0.20574284 -0.2155428  -0.2258091\n",
      " -0.23656559 -0.2478342  -0.25963783 -0.27200603 -0.2849617  -0.2985344\n",
      " -0.31275463 -0.32765198 -0.3432579  -0.3596096  -0.3767376  -0.39468193\n",
      " -0.41348267 -0.43317604 -0.45380974 -0.47542572 -0.49807167 -0.5217953\n",
      " -0.54664993 -0.57268715 -0.59996414 -0.62854195 -0.6584816  -0.68984795\n",
      " -0.72270584 -0.75712967]\n"
     ]
    }
   ],
   "source": [
    "r  = prim['x1f']\n",
    "th = prim['x2f']\n",
    "ph = prim['x3f']\n",
    "\n",
    "x = r*"
   ]
  },
  {
   "cell_type": "markdown",
   "id": "0fe852b1",
   "metadata": {},
   "source": [
    "## Plotting"
   ]
  },
  {
   "cell_type": "code",
   "execution_count": null,
   "id": "a140d013",
   "metadata": {},
   "outputs": [],
   "source": [
    "plt.contourf(rho[])"
   ]
  }
 ],
 "metadata": {
  "kernelspec": {
   "display_name": "Python 3 (ipykernel)",
   "language": "python",
   "name": "python3"
  },
  "language_info": {
   "codemirror_mode": {
    "name": "ipython",
    "version": 3
   },
   "file_extension": ".py",
   "mimetype": "text/x-python",
   "name": "python",
   "nbconvert_exporter": "python",
   "pygments_lexer": "ipython3",
   "version": "3.10.6"
  }
 },
 "nbformat": 4,
 "nbformat_minor": 5
}
