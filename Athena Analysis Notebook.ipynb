{
 "cells": [
  {
   "cell_type": "markdown",
   "id": "8fd1a1e3",
   "metadata": {},
   "source": [
    "# Analysis Package for Athena"
   ]
  },
  {
   "cell_type": "code",
   "execution_count": 1,
   "id": "7701c945",
   "metadata": {},
   "outputs": [
    {
     "name": "stdout",
     "output_type": "stream",
     "text": [
      "/home/vik/code/athena/vis/python\n"
     ]
    }
   ],
   "source": [
    "import numpy as np\n",
    "import pandas as pd\n",
    "import matplotlib.pyplot as plt\n",
    "import matplotlib.colors as colors\n",
    "import h5py\n",
    "\n",
    "%cd /home/vik/code/athena/vis/python\n",
    "\n",
    "import athena_read\n"
   ]
  },
  {
   "cell_type": "code",
   "execution_count": 2,
   "id": "347dfcf1",
   "metadata": {},
   "outputs": [],
   "source": [
    "data_dir = \"/home/vik/code/runs/athena_torus/\""
   ]
  },
  {
   "cell_type": "markdown",
   "id": "88dee990",
   "metadata": {},
   "source": [
    "## Choose Time"
   ]
  },
  {
   "cell_type": "code",
   "execution_count": 5,
   "id": "9396d7eb",
   "metadata": {},
   "outputs": [],
   "source": [
    "dump = '00300'\n",
    "\n",
    "file_user = \"fm_torus.user.\" + dump + \".athdf\"\n",
    "file_prim = \"fm_torus.prim.\" + dump + \".athdf\""
   ]
  },
  {
   "cell_type": "markdown",
   "id": "70fee3d5",
   "metadata": {},
   "source": [
    "## Read in Data"
   ]
  },
  {
   "cell_type": "code",
   "execution_count": 6,
   "id": "247f6c4c",
   "metadata": {},
   "outputs": [],
   "source": [
    "user = athena_read.athdf(data_dir+file_user)\n",
    "prim = athena_read.athdf(data_dir+file_prim)"
   ]
  },
  {
   "cell_type": "code",
   "execution_count": 7,
   "id": "b7ee233c",
   "metadata": {},
   "outputs": [],
   "source": [
    "hst = athena_read.hst(data_dir+'fm_torus.hst')"
   ]
  },
  {
   "cell_type": "markdown",
   "id": "88fd899c",
   "metadata": {},
   "source": [
    "## Data Reduction"
   ]
  },
  {
   "cell_type": "code",
   "execution_count": 8,
   "id": "838d9bd4",
   "metadata": {},
   "outputs": [],
   "source": [
    "def dump_keys(d, lvl=0):\n",
    "    import collections.abc\n",
    "    for k in d.keys():\n",
    "        if not isinstance(d[k], dict):\n",
    "            if isinstance(d[k], np.ndarray):\n",
    "                print(k + \": \" + str(type(d[k])) + str(d[k].shape))\n",
    "            else:\n",
    "                print(k + \": \" + str(type(d[k])))\n",
    "                \n",
    "        else:\n",
    "            dump_keys(d[k])\n",
    "    return"
   ]
  },
  {
   "cell_type": "markdown",
   "id": "7790bc63",
   "metadata": {},
   "source": [
    "### Looping Through Keys to Print All Known Values"
   ]
  },
  {
   "cell_type": "code",
   "execution_count": 9,
   "id": "210b89f6",
   "metadata": {},
   "outputs": [
    {
     "name": "stdout",
     "output_type": "stream",
     "text": [
      "Coordinates: <class 'numpy.bytes_'>\n",
      "DatasetNames: <class 'numpy.ndarray'>(2,)\n",
      "MaxLevel: <class 'numpy.int32'>\n",
      "MeshBlockSize: <class 'numpy.ndarray'>(3,)\n",
      "NumCycles: <class 'numpy.int32'>\n",
      "NumMeshBlocks: <class 'numpy.int32'>\n",
      "NumVariables: <class 'numpy.ndarray'>(2,)\n",
      "RootGridSize: <class 'numpy.ndarray'>(3,)\n",
      "RootGridX1: <class 'numpy.ndarray'>(3,)\n",
      "RootGridX2: <class 'numpy.ndarray'>(3,)\n",
      "RootGridX3: <class 'numpy.ndarray'>(3,)\n",
      "Time: <class 'numpy.float32'>\n",
      "VariableNames: <class 'numpy.ndarray'>(8,)\n",
      "x1f: <class 'numpy.ndarray'>(129,)\n",
      "x1v: <class 'numpy.ndarray'>(128,)\n",
      "x2f: <class 'numpy.ndarray'>(129,)\n",
      "x2v: <class 'numpy.ndarray'>(128,)\n",
      "x3f: <class 'numpy.ndarray'>(129,)\n",
      "x3v: <class 'numpy.ndarray'>(128,)\n",
      "rho: <class 'numpy.ndarray'>(128, 128, 128)\n",
      "press: <class 'numpy.ndarray'>(128, 128, 128)\n",
      "vel1: <class 'numpy.ndarray'>(128, 128, 128)\n",
      "vel2: <class 'numpy.ndarray'>(128, 128, 128)\n",
      "vel3: <class 'numpy.ndarray'>(128, 128, 128)\n",
      "Bcc1: <class 'numpy.ndarray'>(128, 128, 128)\n",
      "Bcc2: <class 'numpy.ndarray'>(128, 128, 128)\n",
      "Bcc3: <class 'numpy.ndarray'>(128, 128, 128)\n"
     ]
    },
    {
     "data": {
      "text/plain": [
       "3.0001135"
      ]
     },
     "execution_count": 9,
     "metadata": {},
     "output_type": "execute_result"
    }
   ],
   "source": [
    "dump_keys(prim)\n",
    "prim['Time']"
   ]
  },
  {
   "cell_type": "code",
   "execution_count": 10,
   "id": "9cad470b",
   "metadata": {},
   "outputs": [
    {
     "name": "stdout",
     "output_type": "stream",
     "text": [
      "Coordinates: <class 'numpy.bytes_'>\n",
      "DatasetNames: <class 'numpy.ndarray'>(1,)\n",
      "MaxLevel: <class 'numpy.int32'>\n",
      "MeshBlockSize: <class 'numpy.ndarray'>(3,)\n",
      "NumCycles: <class 'numpy.int32'>\n",
      "NumMeshBlocks: <class 'numpy.int32'>\n",
      "NumVariables: <class 'numpy.ndarray'>(1,)\n",
      "RootGridSize: <class 'numpy.ndarray'>(3,)\n",
      "RootGridX1: <class 'numpy.ndarray'>(3,)\n",
      "RootGridX2: <class 'numpy.ndarray'>(3,)\n",
      "RootGridX3: <class 'numpy.ndarray'>(3,)\n",
      "Time: <class 'numpy.float32'>\n",
      "VariableNames: <class 'numpy.ndarray'>(2,)\n",
      "x1f: <class 'numpy.ndarray'>(129,)\n",
      "x1v: <class 'numpy.ndarray'>(128,)\n",
      "x2f: <class 'numpy.ndarray'>(129,)\n",
      "x2v: <class 'numpy.ndarray'>(128,)\n",
      "x3f: <class 'numpy.ndarray'>(129,)\n",
      "x3v: <class 'numpy.ndarray'>(128,)\n",
      "gamma: <class 'numpy.ndarray'>(128, 128, 128)\n",
      "pmag: <class 'numpy.ndarray'>(128, 128, 128)\n"
     ]
    }
   ],
   "source": [
    "dump_keys(user)"
   ]
  },
  {
   "cell_type": "code",
   "execution_count": 11,
   "id": "328d5d2c",
   "metadata": {},
   "outputs": [
    {
     "name": "stdout",
     "output_type": "stream",
     "text": [
      "[b'rho' b'press' b'vel1' b'vel2' b'vel3' b'Bcc1' b'Bcc2' b'Bcc3']\n",
      "[128 128 128]\n"
     ]
    }
   ],
   "source": [
    "print(prim['VariableNames'])\n",
    "print(user['RootGridSize'])"
   ]
  },
  {
   "cell_type": "code",
   "execution_count": 12,
   "id": "8fb49dcf",
   "metadata": {},
   "outputs": [],
   "source": [
    "rho = prim['rho']"
   ]
  },
  {
   "cell_type": "markdown",
   "id": "e62d5b71",
   "metadata": {},
   "source": [
    "## Defining Some Constants"
   ]
  },
  {
   "cell_type": "code",
   "execution_count": 13,
   "id": "c0ac8a80",
   "metadata": {},
   "outputs": [],
   "source": [
    "a = 0.5\n",
    "M = 1\n",
    "q = 0"
   ]
  },
  {
   "cell_type": "code",
   "execution_count": 14,
   "id": "31a7722b",
   "metadata": {},
   "outputs": [],
   "source": [
    "rh = M + np.sqrt(M**2 - a**2 - q**2)"
   ]
  },
  {
   "cell_type": "markdown",
   "id": "8a2f5129",
   "metadata": {},
   "source": [
    "## Coordinates"
   ]
  },
  {
   "cell_type": "code",
   "execution_count": 15,
   "id": "9cead5b6",
   "metadata": {},
   "outputs": [],
   "source": [
    "# defining number of cells in each spatial coordinate\n",
    "n1 = user['RootGridSize'][0]\n",
    "n2 = user['RootGridSize'][1]\n",
    "n3 = user['RootGridSize'][2]\n",
    "\n",
    "# creating 1D arrays fo r\n",
    "r_  = prim['x1v']\n",
    "th_ = prim['x2v']\n",
    "ph_ = prim['x3v']\n",
    "\n",
    "r = np.zeros((n1,n2,n3))\n",
    "th = np.zeros((n1,n2,n3))\n",
    "ph = np.zeros((n1,n2,n3))\n",
    "\n",
    "rmax = r_[-1]\n",
    "rmin = r_[0]\n",
    "\n",
    "for j in range(n2):\n",
    "    for k in range(n3):\n",
    "        r[:,j,k] = r_\n",
    "        \n",
    "for i in range(n1):\n",
    "    for k in range(n3):\n",
    "        th[i,:,k] = th_        \n",
    "\n",
    "for i in range(n1):\n",
    "    for j in range(n2):\n",
    "        ph[i,j,:] = ph_\n",
    "\n",
    "x = r[:,:,0]*np.sin(th[:,:,0])\n",
    "y = r[:,:,0]*np.cos(th[:,:,0])"
   ]
  },
  {
   "cell_type": "markdown",
   "id": "0fe852b1",
   "metadata": {},
   "source": [
    "## Plotting"
   ]
  },
  {
   "cell_type": "code",
   "execution_count": 20,
   "id": "a140d013",
   "metadata": {},
   "outputs": [
    {
     "data": {
      "text/plain": [
       "<matplotlib.patches.Circle at 0x7f38b89bb6a0>"
      ]
     },
     "execution_count": 20,
     "metadata": {},
     "output_type": "execute_result"
    },
    {
     "data": {
      "image/png": "[encoded data removed]",
      "text/plain": [
       "<Figure size 640x480 with 2 Axes>"
      ]
     },
     "metadata": {},
     "output_type": "display_data"
    }
   ],
   "source": [
    "fmin = np.percentile(np.log10(rho), 1)\n",
    "fmax = np.percentile(np.log10(rho), 99)\n",
    "levels = np.linspace(fmin,fmax,500)\n",
    "\n",
    "fig, ax = plt.subplots()\n",
    "CS = ax.contourf(x, y, np.log10(rho[:,:,0]), levels = levels)\n",
    "\n",
    "ax.set_xlim(0,35)\n",
    "ax.set_ylim(0,35)\n",
    "\n",
    "cbar = fig.colorbar(CS)\n",
    "cbar.ax.set_title(r'$log(\\rho)$')\n",
    "\n",
    "circle1 = plt.Circle((0, 0), rh, color ='black')\n",
    "ax.add_patch(circle1)"
   ]
  },
  {
   "cell_type": "code",
   "execution_count": null,
   "id": "e3793f6a",
   "metadata": {},
   "outputs": [],
   "source": []
  }
 ],
 "metadata": {
  "kernelspec": {
   "display_name": "Python 3 (ipykernel)",
   "language": "python",
   "name": "python3"
  },
  "language_info": {
   "codemirror_mode": {
    "name": "ipython",
    "version": 3
   },
   "file_extension": ".py",
   "mimetype": "text/x-python",
   "name": "python",
   "nbconvert_exporter": "python",
   "pygments_lexer": "ipython3",
   "version": "3.10.6"
  }
 },
 "nbformat": 4,
 "nbformat_minor": 5
}
